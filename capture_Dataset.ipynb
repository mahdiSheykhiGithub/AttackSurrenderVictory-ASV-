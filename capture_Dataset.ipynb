{
 "cells": [
  {
   "cell_type": "markdown",
   "id": "217685e9-dd58-47e9-a0d2-648eb28a52f9",
   "metadata": {},
   "source": [
    "# Imports"
   ]
  },
  {
   "cell_type": "code",
   "execution_count": 1,
   "id": "08de76b5-f63e-400f-96ec-e2800c6f1a54",
   "metadata": {},
   "outputs": [],
   "source": [
    "import cv2\n",
    "import matplotlib.pyplot as plt"
   ]
  },
  {
   "cell_type": "markdown",
   "id": "6080d2d2-cca0-4850-aead-05648e68cf05",
   "metadata": {},
   "source": [
    "# Custom Dataset"
   ]
  },
  {
   "cell_type": "code",
   "execution_count": 2,
   "id": "adaf78b3-7244-4322-8ccd-dd723d164896",
   "metadata": {},
   "outputs": [],
   "source": [
    "i = 0\n",
    "cap = cv2.VideoCapture(0)\n",
    "while cap.isOpened():\n",
    "    ans, frame = cap.read()\n",
    "    if ans:\n",
    "        cv2.imshow('camera', frame)\n",
    "        \n",
    "    key = cv2.waitKey(1)\n",
    "    if key == ord('q'):\n",
    "        break\n",
    "    elif key == ord('s'):\n",
    "        cv2.imwrite(filename = f'./Dataset/img{i}.png', img=frame)\n",
    "        i += 1\n",
    "\n",
    "cap.release()\n",
    "cv2.destroyAllWindows()"
   ]
  },
  {
   "cell_type": "code",
   "execution_count": 3,
   "id": "ec159360-a3b6-4bdf-8f28-8cfc70f42cf2",
   "metadata": {},
   "outputs": [],
   "source": [
    "class_name = {\n",
    "    0 : 'Face',\n",
    "    1 : 'Victory',\n",
    "    2 : 'Attack',\n",
    "    3 : 'Surrender'\n",
    "}"
   ]
  }
 ],
 "metadata": {
  "kernelspec": {
   "display_name": "Python 3 (ipykernel)",
   "language": "python",
   "name": "python3"
  },
  "language_info": {
   "codemirror_mode": {
    "name": "ipython",
    "version": 3
   },
   "file_extension": ".py",
   "mimetype": "text/x-python",
   "name": "python",
   "nbconvert_exporter": "python",
   "pygments_lexer": "ipython3",
   "version": "3.12.2"
  }
 },
 "nbformat": 4,
 "nbformat_minor": 5
}
